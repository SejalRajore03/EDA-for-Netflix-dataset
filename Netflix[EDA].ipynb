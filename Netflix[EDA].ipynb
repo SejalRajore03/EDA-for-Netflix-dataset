{
 "cells": [
  {
   "cell_type": "markdown",
   "id": "ace19a4a-b05c-4c3a-94de-83c7dedfcfe1",
   "metadata": {},
   "source": [
    "# Project Name - EDA for Netflix Dataset"
   ]
  },
  {
   "cell_type": "markdown",
   "id": "76ca7b11-e9d8-47f0-a3b4-023e8ee269e0",
   "metadata": {},
   "source": [
    "## Project Type - EDA/Regression"
   ]
  },
  {
   "cell_type": "markdown",
   "id": "92765f6c-ae31-49ce-a2c7-6566e17feef8",
   "metadata": {},
   "source": [
    "## Contribution - Individual"
   ]
  },
  {
   "cell_type": "markdown",
   "id": "091e6e4e-b8f9-433a-ae3e-163afb5dae49",
   "metadata": {},
   "source": [
    "## Team Member 1 - Sejal Rajore"
   ]
  },
  {
   "cell_type": "markdown",
   "id": "b3bf28ce-23a8-4e17-a7b0-a1f33ca14642",
   "metadata": {},
   "source": [
    "# Project Summary - "
   ]
  },
  {
   "cell_type": "markdown",
   "id": "5550047c-057c-4bc7-b201-5bd14224391f",
   "metadata": {},
   "source": [
    "This project focuses on performing Exploratory Data Analysis (EDA) on a dataset containing all TV shows and movies available on Netflix as of 2019. The dataset, collected from Flixable (a third-party Netflix search engine), provides insights into the type, distribution, and availability of Netflix content over the years.\n",
    "\n",
    "According to a 2018 report, the number of TV shows on Netflix has nearly tripled since 2010, while the number of movies has decreased by over 2,000 titles. This project aims to investigate such trends to determine if Netflix has shifted its focus from movies to TV shows in recent years.\n",
    "\n",
    "Key objectives include analyzing content availability across different countries, identifying patterns in content type (TV shows vs. movies), and clustering similar content based on text features like descriptions, genres, and cast. These clusters can help understand the nature of content Netflix offers and support recommendation systems.\n"
   ]
  },
  {
   "cell_type": "markdown",
   "id": "d3088cf9-e9f1-45e1-8664-b9680c2f093e",
   "metadata": {},
   "source": [
    "# Github Link - "
   ]
  },
  {
   "cell_type": "code",
   "execution_count": null,
   "id": "0853206d-3bf6-4e1e-84ea-71e412ab44ec",
   "metadata": {},
   "outputs": [],
   "source": []
  },
  {
   "cell_type": "markdown",
   "id": "40e5ff3b-2085-46ca-a6d1-096ff04bd721",
   "metadata": {},
   "source": [
    "# Problem Statement"
   ]
  },
  {
   "cell_type": "markdown",
   "id": "8e388147-5430-4d7d-973a-27da648d170d",
   "metadata": {},
   "source": [
    "With the rapid growth and diversification of content on streaming platforms, it becomes essential to understand how content offerings have evolved over time. Specifically, Netflix appears to have shifted its focus from movies to TV shows in recent years. However, without thorough analysis, this assumption remains speculative. Additionally, there is limited visibility into the type of content available in various countries and how content clusters based on similarities."
   ]
  },
  {
   "cell_type": "markdown",
   "id": "5854a42c-c86a-4866-a06f-f564f86b28e9",
   "metadata": {},
   "source": [
    "## Define Your Business Objective ?"
   ]
  },
  {
   "cell_type": "markdown",
   "id": "020ca68e-4e14-497b-b7e3-63ff68300af3",
   "metadata": {},
   "source": [
    "he objective of this project is to perform a comprehensive exploratory data analysis on Netflix's content catalog as of 2019. The goals include:\n",
    "\n",
    " * Identifying trends in the distribution of TV shows vs. movies over time.\n",
    "\n",
    " * Understanding the availability and type of content across different countries.\n",
    "\n",
    " * Determining whether Netflix is strategically shifting focus toward episodic content like TV shows.\n",
    "\n",
    " * Clustering content with similar characteristics based on text-based features to enhance content recommendation capabilities.\n",
    "\n",
    "These insights aim to support strategic decision-making regarding content acquisition, marketing localization, and personalized content delivery on the platform."
   ]
  },
  {
   "cell_type": "markdown",
   "id": "4f650da9-1708-4ec8-8729-0599507d5003",
   "metadata": {},
   "source": [
    "# General Guidelines :-"
   ]
  },
  {
   "cell_type": "raw",
   "id": "4f0ebcc1-3254-4c59-8a60-d529a97fdcc6",
   "metadata": {},
   "source": [
    "1. Well-structured, formatted, and commented code is required.\n",
    "2. Exception Handling, Production Grade Code & Deployment Ready Code will be a plus. Those students will be awarded some additional credits.\n",
    "     \n",
    "     The additional credits will have advantages over other students during Star Student selection.\n",
    "       \n",
    "             [ Note: - Deployment Ready Code is defined as, the whole .ipynb notebook should be executable in one go\n",
    "                       without a single error logged. ]\n",
    "\n",
    "3. Each and every logic should have proper comments.\n",
    "4. You may add as many number of charts you want. Make Sure for each and every chart the following format should be answered.\n",
    "        \n",
    "\n",
    "```\n",
    "# Chart visualization code\n",
    "```\n",
    "            \n",
    "\n",
    "* Why did you pick the specific chart?\n",
    "* What is/are the insight(s) found from the chart?\n",
    "* Will the gained insights help creating a positive business impact?\n",
    "Are there any insights that lead to negative growth? Justify with specific reason.\n",
    "\n",
    "5. You have to create at least 20 logical & meaningful charts having important insights.\n",
    "\n",
    "\n",
    "[ Hints : - Do the Vizualization in  a structured way while following \"UBM\" Rule.\n",
    "\n",
    "U - Univariate Analysis,\n",
    "\n",
    "B - Bivariate Analysis (Numerical - Categorical, Numerical - Numerical, Categorical - Categorical)\n",
    "\n",
    "M - Multivariate Analysis\n",
    " ]\n"
   ]
  },
  {
   "cell_type": "markdown",
   "id": "70ecfd9d-ab56-4814-9dee-421f4b07a4b1",
   "metadata": {},
   "source": [
    "# Let's Begin !"
   ]
  },
  {
   "cell_type": "markdown",
   "id": "70e55860-87e3-46db-9b24-c564b4d3bf6e",
   "metadata": {},
   "source": [
    "# 1. Know Your Data"
   ]
  },
  {
   "cell_type": "markdown",
   "id": "a7f17f0b-ae32-4334-9f15-e957f1a05e86",
   "metadata": {},
   "source": [
    "## Import Libraries"
   ]
  },
  {
   "cell_type": "code",
   "execution_count": 2,
   "id": "dba87ff8-6f9c-4c77-869e-0f52fce842e0",
   "metadata": {},
   "outputs": [],
   "source": [
    "# Import Libraries\n",
    "\n",
    "import pandas as pd\n",
    "import numpy as np\n",
    "import matplotlib.pyplot as plt\n",
    "import seaborn as sns\n",
    "import warnings\n",
    "warnings.filterwarnings('ignore')"
   ]
  },
  {
   "cell_type": "markdown",
   "id": "e5766722-acee-429a-a2c4-085703367d51",
   "metadata": {},
   "source": [
    "## Dataset Loading"
   ]
  },
  {
   "cell_type": "code",
   "execution_count": 6,
   "id": "5c46a261-ca4b-4db8-919e-9d7d40389666",
   "metadata": {},
   "outputs": [],
   "source": [
    "file_path = \"C:/Users/sejal rajore/Downloads/NETFLIX MOVIES AND TV SHOWS CLUSTERING.csv\"\n",
    "data = pd.read_csv(file_path)"
   ]
  },
  {
   "cell_type": "markdown",
   "id": "53488cb8-85ed-4312-8af8-8260fa104fc0",
   "metadata": {},
   "source": [
    "## Dataset First View"
   ]
  },
  {
   "cell_type": "code",
   "execution_count": 7,
   "id": "d8624626-c2cc-43c4-8892-3ac767a80ac1",
   "metadata": {},
   "outputs": [
    {
     "data": {
      "text/html": [
       "<div>\n",
       "<style scoped>\n",
       "    .dataframe tbody tr th:only-of-type {\n",
       "        vertical-align: middle;\n",
       "    }\n",
       "\n",
       "    .dataframe tbody tr th {\n",
       "        vertical-align: top;\n",
       "    }\n",
       "\n",
       "    .dataframe thead th {\n",
       "        text-align: right;\n",
       "    }\n",
       "</style>\n",
       "<table border=\"1\" class=\"dataframe\">\n",
       "  <thead>\n",
       "    <tr style=\"text-align: right;\">\n",
       "      <th></th>\n",
       "      <th>show_id</th>\n",
       "      <th>type</th>\n",
       "      <th>title</th>\n",
       "      <th>director</th>\n",
       "      <th>cast</th>\n",
       "      <th>country</th>\n",
       "      <th>date_added</th>\n",
       "      <th>release_year</th>\n",
       "      <th>rating</th>\n",
       "      <th>duration</th>\n",
       "      <th>listed_in</th>\n",
       "      <th>description</th>\n",
       "    </tr>\n",
       "  </thead>\n",
       "  <tbody>\n",
       "    <tr>\n",
       "      <th>0</th>\n",
       "      <td>s1</td>\n",
       "      <td>TV Show</td>\n",
       "      <td>3%</td>\n",
       "      <td>NaN</td>\n",
       "      <td>João Miguel, Bianca Comparato, Michel Gomes, R...</td>\n",
       "      <td>Brazil</td>\n",
       "      <td>14-Aug-20</td>\n",
       "      <td>2020</td>\n",
       "      <td>TV-MA</td>\n",
       "      <td>4 Seasons</td>\n",
       "      <td>International TV Shows, TV Dramas, TV Sci-Fi &amp;...</td>\n",
       "      <td>In a future where the elite inhabit an island ...</td>\n",
       "    </tr>\n",
       "    <tr>\n",
       "      <th>1</th>\n",
       "      <td>s2</td>\n",
       "      <td>Movie</td>\n",
       "      <td>7:19</td>\n",
       "      <td>Jorge Michel Grau</td>\n",
       "      <td>Demián Bichir, Héctor Bonilla, Oscar Serrano, ...</td>\n",
       "      <td>Mexico</td>\n",
       "      <td>23-Dec-16</td>\n",
       "      <td>2016</td>\n",
       "      <td>TV-MA</td>\n",
       "      <td>93 min</td>\n",
       "      <td>Dramas, International Movies</td>\n",
       "      <td>After a devastating earthquake hits Mexico Cit...</td>\n",
       "    </tr>\n",
       "    <tr>\n",
       "      <th>2</th>\n",
       "      <td>s3</td>\n",
       "      <td>Movie</td>\n",
       "      <td>23:59</td>\n",
       "      <td>Gilbert Chan</td>\n",
       "      <td>Tedd Chan, Stella Chung, Henley Hii, Lawrence ...</td>\n",
       "      <td>Singapore</td>\n",
       "      <td>20-Dec-18</td>\n",
       "      <td>2011</td>\n",
       "      <td>R</td>\n",
       "      <td>78 min</td>\n",
       "      <td>Horror Movies, International Movies</td>\n",
       "      <td>When an army recruit is found dead, his fellow...</td>\n",
       "    </tr>\n",
       "    <tr>\n",
       "      <th>3</th>\n",
       "      <td>s4</td>\n",
       "      <td>Movie</td>\n",
       "      <td>9</td>\n",
       "      <td>Shane Acker</td>\n",
       "      <td>Elijah Wood, John C. Reilly, Jennifer Connelly...</td>\n",
       "      <td>United States</td>\n",
       "      <td>16-Nov-17</td>\n",
       "      <td>2009</td>\n",
       "      <td>PG-13</td>\n",
       "      <td>80 min</td>\n",
       "      <td>Action &amp; Adventure, Independent Movies, Sci-Fi...</td>\n",
       "      <td>In a postapocalyptic world, rag-doll robots hi...</td>\n",
       "    </tr>\n",
       "    <tr>\n",
       "      <th>4</th>\n",
       "      <td>s5</td>\n",
       "      <td>Movie</td>\n",
       "      <td>21</td>\n",
       "      <td>Robert Luketic</td>\n",
       "      <td>Jim Sturgess, Kevin Spacey, Kate Bosworth, Aar...</td>\n",
       "      <td>United States</td>\n",
       "      <td>1-Jan-20</td>\n",
       "      <td>2008</td>\n",
       "      <td>PG-13</td>\n",
       "      <td>123 min</td>\n",
       "      <td>Dramas</td>\n",
       "      <td>A brilliant group of students become card-coun...</td>\n",
       "    </tr>\n",
       "  </tbody>\n",
       "</table>\n",
       "</div>"
      ],
      "text/plain": [
       "  show_id     type  title           director  \\\n",
       "0      s1  TV Show     3%                NaN   \n",
       "1      s2    Movie   7:19  Jorge Michel Grau   \n",
       "2      s3    Movie  23:59       Gilbert Chan   \n",
       "3      s4    Movie      9        Shane Acker   \n",
       "4      s5    Movie     21     Robert Luketic   \n",
       "\n",
       "                                                cast        country  \\\n",
       "0  João Miguel, Bianca Comparato, Michel Gomes, R...         Brazil   \n",
       "1  Demián Bichir, Héctor Bonilla, Oscar Serrano, ...         Mexico   \n",
       "2  Tedd Chan, Stella Chung, Henley Hii, Lawrence ...      Singapore   \n",
       "3  Elijah Wood, John C. Reilly, Jennifer Connelly...  United States   \n",
       "4  Jim Sturgess, Kevin Spacey, Kate Bosworth, Aar...  United States   \n",
       "\n",
       "  date_added  release_year rating   duration  \\\n",
       "0  14-Aug-20          2020  TV-MA  4 Seasons   \n",
       "1  23-Dec-16          2016  TV-MA     93 min   \n",
       "2  20-Dec-18          2011      R     78 min   \n",
       "3  16-Nov-17          2009  PG-13     80 min   \n",
       "4   1-Jan-20          2008  PG-13    123 min   \n",
       "\n",
       "                                           listed_in  \\\n",
       "0  International TV Shows, TV Dramas, TV Sci-Fi &...   \n",
       "1                       Dramas, International Movies   \n",
       "2                Horror Movies, International Movies   \n",
       "3  Action & Adventure, Independent Movies, Sci-Fi...   \n",
       "4                                             Dramas   \n",
       "\n",
       "                                         description  \n",
       "0  In a future where the elite inhabit an island ...  \n",
       "1  After a devastating earthquake hits Mexico Cit...  \n",
       "2  When an army recruit is found dead, his fellow...  \n",
       "3  In a postapocalyptic world, rag-doll robots hi...  \n",
       "4  A brilliant group of students become card-coun...  "
      ]
     },
     "execution_count": 7,
     "metadata": {},
     "output_type": "execute_result"
    }
   ],
   "source": [
    "# Dataset First View\n",
    "data.head()"
   ]
  },
  {
   "cell_type": "markdown",
   "id": "2b2ed899-cebe-4bf0-b91c-eb4e9cf68b89",
   "metadata": {},
   "source": [
    "## Dataset Rows & Columns count"
   ]
  },
  {
   "cell_type": "code",
   "execution_count": 8,
   "id": "65e87c76-4bd5-4339-b855-3969d95bad09",
   "metadata": {},
   "outputs": [
    {
     "data": {
      "text/plain": [
       "(7787, 12)"
      ]
     },
     "execution_count": 8,
     "metadata": {},
     "output_type": "execute_result"
    }
   ],
   "source": [
    "# Dataset Rows & Columns count\n",
    "\n",
    "data.shape"
   ]
  },
  {
   "cell_type": "markdown",
   "id": "b62c4524-949f-4cf7-a884-6d0d5c725aa9",
   "metadata": {},
   "source": [
    "## Dataset Information"
   ]
  },
  {
   "cell_type": "code",
   "execution_count": 9,
   "id": "d8272686-9d56-4a5b-b4ab-05f9dbac1840",
   "metadata": {},
   "outputs": [
    {
     "data": {
      "text/plain": [
       "<bound method DataFrame.info of      show_id     type                                    title  \\\n",
       "0         s1  TV Show                                       3%   \n",
       "1         s2    Movie                                     7:19   \n",
       "2         s3    Movie                                    23:59   \n",
       "3         s4    Movie                                        9   \n",
       "4         s5    Movie                                       21   \n",
       "...      ...      ...                                      ...   \n",
       "7782   s7783    Movie                                     Zozo   \n",
       "7783   s7784    Movie                                   Zubaan   \n",
       "7784   s7785    Movie                        Zulu Man in Japan   \n",
       "7785   s7786  TV Show                    Zumbo's Just Desserts   \n",
       "7786   s7787    Movie  ZZ TOP: THAT LITTLE OL' BAND FROM TEXAS   \n",
       "\n",
       "               director                                               cast  \\\n",
       "0                   NaN  João Miguel, Bianca Comparato, Michel Gomes, R...   \n",
       "1     Jorge Michel Grau  Demián Bichir, Héctor Bonilla, Oscar Serrano, ...   \n",
       "2          Gilbert Chan  Tedd Chan, Stella Chung, Henley Hii, Lawrence ...   \n",
       "3           Shane Acker  Elijah Wood, John C. Reilly, Jennifer Connelly...   \n",
       "4        Robert Luketic  Jim Sturgess, Kevin Spacey, Kate Bosworth, Aar...   \n",
       "...                 ...                                                ...   \n",
       "7782        Josef Fares  Imad Creidi, Antoinette Turk, Elias Gergi, Car...   \n",
       "7783        Mozez Singh  Vicky Kaushal, Sarah-Jane Dias, Raaghav Chanan...   \n",
       "7784                NaN                                            Nasty C   \n",
       "7785                NaN                         Adriano Zumbo, Rachel Khoo   \n",
       "7786           Sam Dunn                                                NaN   \n",
       "\n",
       "                                                country date_added  \\\n",
       "0                                                Brazil  14-Aug-20   \n",
       "1                                                Mexico  23-Dec-16   \n",
       "2                                             Singapore  20-Dec-18   \n",
       "3                                         United States  16-Nov-17   \n",
       "4                                         United States   1-Jan-20   \n",
       "...                                                 ...        ...   \n",
       "7782  Sweden, Czech Republic, United Kingdom, Denmar...  19-Oct-20   \n",
       "7783                                              India   2-Mar-19   \n",
       "7784                                                NaN  25-Sep-20   \n",
       "7785                                          Australia  31-Oct-20   \n",
       "7786              United Kingdom, Canada, United States   1-Mar-20   \n",
       "\n",
       "      release_year rating   duration  \\\n",
       "0             2020  TV-MA  4 Seasons   \n",
       "1             2016  TV-MA     93 min   \n",
       "2             2011      R     78 min   \n",
       "3             2009  PG-13     80 min   \n",
       "4             2008  PG-13    123 min   \n",
       "...            ...    ...        ...   \n",
       "7782          2005  TV-MA     99 min   \n",
       "7783          2015  TV-14    111 min   \n",
       "7784          2019  TV-MA     44 min   \n",
       "7785          2019  TV-PG   1 Season   \n",
       "7786          2019  TV-MA     90 min   \n",
       "\n",
       "                                              listed_in  \\\n",
       "0     International TV Shows, TV Dramas, TV Sci-Fi &...   \n",
       "1                          Dramas, International Movies   \n",
       "2                   Horror Movies, International Movies   \n",
       "3     Action & Adventure, Independent Movies, Sci-Fi...   \n",
       "4                                                Dramas   \n",
       "...                                                 ...   \n",
       "7782                       Dramas, International Movies   \n",
       "7783     Dramas, International Movies, Music & Musicals   \n",
       "7784  Documentaries, International Movies, Music & M...   \n",
       "7785                 International TV Shows, Reality TV   \n",
       "7786                    Documentaries, Music & Musicals   \n",
       "\n",
       "                                            description  \n",
       "0     In a future where the elite inhabit an island ...  \n",
       "1     After a devastating earthquake hits Mexico Cit...  \n",
       "2     When an army recruit is found dead, his fellow...  \n",
       "3     In a postapocalyptic world, rag-doll robots hi...  \n",
       "4     A brilliant group of students become card-coun...  \n",
       "...                                                 ...  \n",
       "7782  When Lebanon's Civil War deprives Zozo of his ...  \n",
       "7783  A scrappy but poor boy worms his way into a ty...  \n",
       "7784  In this documentary, South African rapper Nast...  \n",
       "7785  Dessert wizard Adriano Zumbo looks for the nex...  \n",
       "7786  This documentary delves into the mystique behi...  \n",
       "\n",
       "[7787 rows x 12 columns]>"
      ]
     },
     "execution_count": 9,
     "metadata": {},
     "output_type": "execute_result"
    }
   ],
   "source": [
    "# Dataset Info\n",
    "data.info"
   ]
  },
  {
   "cell_type": "markdown",
   "id": "8bb9ae3f-30db-4f1d-a4df-24d5edb91af9",
   "metadata": {},
   "source": [
    "## Duplicate Values"
   ]
  },
  {
   "cell_type": "code",
   "execution_count": 12,
   "id": "bce3824f-8ae8-4bb5-b100-7970ac5da2f4",
   "metadata": {},
   "outputs": [
    {
     "data": {
      "text/plain": [
       "0"
      ]
     },
     "execution_count": 12,
     "metadata": {},
     "output_type": "execute_result"
    }
   ],
   "source": [
    "# Dataset Duplicate Value count\n",
    "\n",
    "data.duplicated().sum()"
   ]
  },
  {
   "cell_type": "markdown",
   "id": "e4ff7d25-e85f-4277-a8f3-a14b6c1c6c07",
   "metadata": {},
   "source": [
    "## Missing Values/Null Values"
   ]
  },
  {
   "cell_type": "code",
   "execution_count": 5,
   "id": "44ad42ae-5298-4f04-b5ef-77d2e3fc8dbd",
   "metadata": {},
   "outputs": [
    {
     "data": {
      "text/plain": [
       "3631"
      ]
     },
     "execution_count": 5,
     "metadata": {},
     "output_type": "execute_result"
    }
   ],
   "source": [
    "# Missing Values/Null Values Count\n",
    "\n",
    "data.isnull().sum().sum()"
   ]
  },
  {
   "cell_type": "markdown",
   "id": "879fc3aa-1c77-4bec-a77f-211d2fb7c8cc",
   "metadata": {},
   "source": [
    "## What did you Know about your dataset ?"
   ]
  },
  {
   "cell_type": "markdown",
   "id": "7690cfd2-a177-4a35-9f40-02130b11ab28",
   "metadata": {},
   "source": [
    "The Netflix dataset comprises 7,787 records and 12 columns, capturing detailed information about TV shows and movies available on the platform as of 2019. It includes key attributes such as title, type (movie or TV show), director, cast, country, date added, release year, rating, duration, genres (listed_in), and description. Notably, the dataset is clean with no duplicate rows. However, it contains 3,631 missing values spread across five columns — with the highest being in the director (2,389) and cast (718) fields, followed by country (507), date_added (10), and rating (7). These gaps indicate that metadata for some entries, especially related to creative contributors and geographic origin, may be incomplete. Despite this, the dataset is rich and well-suited for exploratory analysis on content trends, genre distribution."
   ]
  },
  {
   "cell_type": "markdown",
   "id": "0bb24b9d-436c-4a2e-8869-33643bc3c658",
   "metadata": {},
   "source": [
    "# 2. Understanding Your Variables"
   ]
  },
  {
   "cell_type": "markdown",
   "id": "e60d3953-9713-4b92-8433-0daa52d8526b",
   "metadata": {},
   "source": [
    "### Dataset Columns"
   ]
  },
  {
   "cell_type": "code",
   "execution_count": 16,
   "id": "8b064065-2d64-40c9-9e1d-4f58d0d54177",
   "metadata": {},
   "outputs": [
    {
     "data": {
      "text/plain": [
       "Index(['show_id', 'type', 'title', 'director', 'cast', 'country', 'date_added',\n",
       "       'release_year', 'rating', 'duration', 'listed_in', 'description'],\n",
       "      dtype='object')"
      ]
     },
     "execution_count": 16,
     "metadata": {},
     "output_type": "execute_result"
    }
   ],
   "source": [
    "# dataset columns\n",
    "data.columns"
   ]
  },
  {
   "cell_type": "markdown",
   "id": "4c20148b-39ce-4833-85b1-64d166e8d92d",
   "metadata": {},
   "source": [
    "### Dataset Describe"
   ]
  },
  {
   "cell_type": "code",
   "execution_count": 18,
   "id": "61da9d69-3599-4cc7-aa98-2d607b57c239",
   "metadata": {},
   "outputs": [
    {
     "data": {
      "text/html": [
       "<div>\n",
       "<style scoped>\n",
       "    .dataframe tbody tr th:only-of-type {\n",
       "        vertical-align: middle;\n",
       "    }\n",
       "\n",
       "    .dataframe tbody tr th {\n",
       "        vertical-align: top;\n",
       "    }\n",
       "\n",
       "    .dataframe thead th {\n",
       "        text-align: right;\n",
       "    }\n",
       "</style>\n",
       "<table border=\"1\" class=\"dataframe\">\n",
       "  <thead>\n",
       "    <tr style=\"text-align: right;\">\n",
       "      <th></th>\n",
       "      <th>release_year</th>\n",
       "    </tr>\n",
       "  </thead>\n",
       "  <tbody>\n",
       "    <tr>\n",
       "      <th>count</th>\n",
       "      <td>7787.000000</td>\n",
       "    </tr>\n",
       "    <tr>\n",
       "      <th>mean</th>\n",
       "      <td>2013.932580</td>\n",
       "    </tr>\n",
       "    <tr>\n",
       "      <th>std</th>\n",
       "      <td>8.757395</td>\n",
       "    </tr>\n",
       "    <tr>\n",
       "      <th>min</th>\n",
       "      <td>1925.000000</td>\n",
       "    </tr>\n",
       "    <tr>\n",
       "      <th>25%</th>\n",
       "      <td>2013.000000</td>\n",
       "    </tr>\n",
       "    <tr>\n",
       "      <th>50%</th>\n",
       "      <td>2017.000000</td>\n",
       "    </tr>\n",
       "    <tr>\n",
       "      <th>75%</th>\n",
       "      <td>2018.000000</td>\n",
       "    </tr>\n",
       "    <tr>\n",
       "      <th>max</th>\n",
       "      <td>2021.000000</td>\n",
       "    </tr>\n",
       "  </tbody>\n",
       "</table>\n",
       "</div>"
      ],
      "text/plain": [
       "       release_year\n",
       "count   7787.000000\n",
       "mean    2013.932580\n",
       "std        8.757395\n",
       "min     1925.000000\n",
       "25%     2013.000000\n",
       "50%     2017.000000\n",
       "75%     2018.000000\n",
       "max     2021.000000"
      ]
     },
     "execution_count": 18,
     "metadata": {},
     "output_type": "execute_result"
    }
   ],
   "source": [
    "# dataset describe\n",
    "data.describe()"
   ]
  },
  {
   "cell_type": "markdown",
   "id": "a47822d8-3e27-4266-bc69-57c217324017",
   "metadata": {},
   "source": [
    "### Variable Description"
   ]
  },
  {
   "cell_type": "code",
   "execution_count": 19,
   "id": "90a19499-d7a5-4dc9-bbf6-cf42e72f56d2",
   "metadata": {},
   "outputs": [
    {
     "data": {
      "text/plain": [
       "show_id         7787\n",
       "type               2\n",
       "title           7787\n",
       "director        4049\n",
       "cast            6831\n",
       "country          681\n",
       "date_added      1565\n",
       "release_year      73\n",
       "rating            14\n",
       "duration         216\n",
       "listed_in        492\n",
       "description     7769\n",
       "dtype: int64"
      ]
     },
     "execution_count": 19,
     "metadata": {},
     "output_type": "execute_result"
    }
   ],
   "source": [
    "data.nunique()"
   ]
  },
  {
   "cell_type": "markdown",
   "id": "1a3cd13f-d878-42ae-a239-2129b86bdb6f",
   "metadata": {},
   "source": [
    "## Cheack Unique Values for each variable."
   ]
  },
  {
   "cell_type": "code",
   "execution_count": 8,
   "id": "b033532a-fa48-4c39-8921-a4c3455552e5",
   "metadata": {},
   "outputs": [
    {
     "data": {
      "text/plain": [
       "show_id         7787\n",
       "type               2\n",
       "title           7787\n",
       "director        4049\n",
       "cast            6831\n",
       "country          681\n",
       "date_added      1565\n",
       "release_year      73\n",
       "rating            14\n",
       "duration         216\n",
       "listed_in        492\n",
       "description     7769\n",
       "dtype: int64"
      ]
     },
     "execution_count": 8,
     "metadata": {},
     "output_type": "execute_result"
    }
   ],
   "source": [
    "# Check Unique Values For each variable.\n",
    "data.nunique()"
   ]
  },
  {
   "cell_type": "markdown",
   "id": "8aebab1b-792c-4a20-8a21-dbe87d62f36a",
   "metadata": {},
   "source": [
    "## 3. Data Wrangling"
   ]
  },
  {
   "cell_type": "markdown",
   "id": "9f17f89c-b353-4760-af2e-901559d191c6",
   "metadata": {},
   "source": [
    "## Data Wrangling Code"
   ]
  },
  {
   "cell_type": "code",
   "execution_count": 9,
   "id": "b2474803-6933-404c-9c86-f604a77fb240",
   "metadata": {},
   "outputs": [],
   "source": [
    "# Write your code to make your dataset analysis ready.\n",
    "# Write your code to make your dataset analysis ready.\n",
    "# 1. Create copy of dataset\n",
    "df = data.copy()"
   ]
  },
  {
   "cell_type": "code",
   "execution_count": 8,
   "id": "28fd50ca-5aec-44b1-a6d4-0fd581a34d45",
   "metadata": {},
   "outputs": [],
   "source": [
    "# fill missing values \n",
    "df['director'].fillna(\"Not Available\", inplace=True)\n",
    "df['cast'].fillna(\"Not Available\", inplace=True)\n",
    "df['country'].fillna(\"Not Available\", inplace=True)\n",
    "df['date_added'].fillna(\"Not Available\", inplace=True)\n",
    "df['rating'].fillna(\"Not Rated\", inplace=True)"
   ]
  },
  {
   "cell_type": "code",
   "execution_count": 9,
   "id": "ffb79a0e-9dfb-44c8-b765-3ef49a8d394e",
   "metadata": {},
   "outputs": [],
   "source": [
    "# 3. Converting date_added column to date_time datatype\n",
    "df['date_added'] = pd.to_datetime(df['date_added'], errors='coerce')"
   ]
  },
  {
   "cell_type": "code",
   "execution_count": 10,
   "id": "c3d3eb9f-449e-4277-89bd-5c4ae17177cc",
   "metadata": {},
   "outputs": [],
   "source": [
    "# 4. Extracting year and month from date_added\n",
    "df['year_added'] = df['date_added'].dt.year\n",
    "df['month_added'] = df['date_added'].dt.month_name()"
   ]
  },
  {
   "cell_type": "code",
   "execution_count": 11,
   "id": "5df31af3-d406-4451-acf0-47ebae50c219",
   "metadata": {},
   "outputs": [],
   "source": [
    "# 5. Converting year into int datatype\n",
    "df['year_added'] = df['year_added'].astype('Int64')"
   ]
  },
  {
   "cell_type": "code",
   "execution_count": 12,
   "id": "9a27552a-e872-4a3b-9d2d-d6f36a407890",
   "metadata": {},
   "outputs": [],
   "source": [
    "# 6. Drop irrelevant columns\n",
    "df.drop(columns = ['show_id'], inplace = True)"
   ]
  },
  {
   "cell_type": "code",
   "execution_count": 13,
   "id": "a9b6f32a-b197-420c-8551-9882385ce6dc",
   "metadata": {},
   "outputs": [
    {
     "name": "stdout",
     "output_type": "stream",
     "text": [
      "{'Stand-Up Comedy & Talk Shows', 'TV Comedies', 'TV Mysteries', \"Kids' TV\", 'LGBTQ Movies', 'TV Shows', 'Classic & Cult TV', 'Sci-Fi & Fantasy', 'Classic Movies', 'Cult Movies', 'TV Dramas', 'Romantic Movies', 'Spanish-Language TV Shows', 'Independent Movies', 'Action & Adventure', 'Children & Family Movies', 'TV Horror', 'Documentaries', 'Thrillers', 'Stand-Up Comedy', 'Anime Series', 'Science & Nature TV', 'TV Thrillers', 'Dramas', 'Korean TV Shows', 'Comedies', 'Movies', 'International Movies', 'Docuseries', 'Anime Features', 'Sports Movies', 'Faith & Spirituality', 'International TV Shows', 'Romantic TV Shows', 'Teen TV Shows', 'British TV Shows', 'Music & Musicals', 'Crime TV Shows', 'Horror Movies', 'TV Action & Adventure', 'Reality TV', 'TV Sci-Fi & Fantasy'}\n"
     ]
    }
   ],
   "source": [
    "# 7. Creating genre list\n",
    "# Strip whitespace and ensure consistency\n",
    "df['listed_in'] = df['listed_in'].str.strip()\n",
    "\n",
    "# Create a list of genres in a new column\n",
    "df['genre_list'] = df['listed_in'].str.split(',\\s*')  # Splits by comma and strips spaces\n",
    "\n",
    "# Flatten all genres into one list to find unique genres\n",
    "from itertools import chain\n",
    "all_genres = list(chain.from_iterable(df['genre_list']))\n",
    "unique_genres = set(all_genres)\n",
    "print(unique_genres)"
   ]
  },
  {
   "cell_type": "code",
   "execution_count": 14,
   "id": "ba7c15a3-76a0-42f4-baba-3b65b5c6a6a9",
   "metadata": {},
   "outputs": [
    {
     "name": "stdout",
     "output_type": "stream",
     "text": [
      "International Movies            2437\n",
      "Dramas                          2106\n",
      "Comedies                        1471\n",
      "International TV Shows          1199\n",
      "Documentaries                    786\n",
      "Action & Adventure               721\n",
      "TV Dramas                        704\n",
      "Independent Movies               673\n",
      "Children & Family Movies         532\n",
      "Romantic Movies                  531\n",
      "TV Comedies                      525\n",
      "Thrillers                        491\n",
      "Crime TV Shows                   427\n",
      "Kids' TV                         414\n",
      "Docuseries                       353\n",
      "Romantic TV Shows                333\n",
      "Stand-Up Comedy                  329\n",
      "Music & Musicals                 321\n",
      "Horror Movies                    312\n",
      "British TV Shows                 232\n",
      "Reality TV                       222\n",
      "Sci-Fi & Fantasy                 218\n",
      "Sports Movies                    196\n",
      "Korean TV Shows                  150\n",
      "TV Action & Adventure            150\n",
      "Anime Series                     148\n",
      "Spanish-Language TV Shows        147\n",
      "Classic Movies                   103\n",
      "LGBTQ Movies                      90\n",
      "TV Mysteries                      90\n",
      "Science & Nature TV               85\n",
      "TV Sci-Fi & Fantasy               76\n",
      "TV Horror                         69\n",
      "Teen TV Shows                     60\n",
      "Cult Movies                       59\n",
      "Faith & Spirituality              57\n",
      "Anime Features                    57\n",
      "Movies                            56\n",
      "Stand-Up Comedy & Talk Shows      52\n",
      "TV Thrillers                      50\n",
      "Classic & Cult TV                 27\n",
      "TV Shows                          12\n",
      "dtype: int64\n"
     ]
    }
   ],
   "source": [
    "# 8. Value count for each genre\n",
    "from collections import Counter\n",
    "# Flatten all genres into one list\n",
    "all_genres = [genre for sublist in df['genre_list'] for genre in sublist]\n",
    "\n",
    "# Count occurrences of each genre\n",
    "genre_counts = pd.Series(Counter(all_genres)).sort_values(ascending=False)\n",
    "\n",
    "# Display genre counts\n",
    "print(genre_counts)"
   ]
  },
  {
   "cell_type": "markdown",
   "id": "92894d8d-2f47-499c-982b-5b200b621d16",
   "metadata": {},
   "source": [
    "## What all manipulations have you done and insights you found ?"
   ]
  },
  {
   "cell_type": "markdown",
   "id": "c91d1610-6ddf-4fdf-abd4-54f68ea3804c",
   "metadata": {},
   "source": [
    "1. Created a Copy of the Dataset-\n",
    "   Ensured the original dataset remains unchanged for reference and backup.\n",
    "\n",
    "2. Handled Missing Values-\n",
    "  Filled missing values in columns like director, cast, country, rating, and date_added with appropriate placeholders or removed them where necessary (e.g., dropped rows where date_added was missing to preserve time-based analysis accuracy).\n",
    "\n",
    "3. Converted date_added to DateTime Format-\n",
    "\n",
    "  Enabled accurate extraction of time-based features and chronological analysis of content added to Netflix.\n",
    "\n",
    "4. Extracted Year and Month from date_added-\n",
    "\n",
    "  Created new columns (year_added, month_added) for trend analysis of content over time.\n",
    "\n",
    "5. Converted Year to Integer Format-\n",
    "\n",
    "  Allowed numeric-based grouping and sorting for time series analysis.\n",
    "\n",
    "6. Dropped Irrelevant Columns-\n",
    "\n",
    "  Removed non-analytical columns like show_id that do not contribute insights to the analysis.\n"
   ]
  },
  {
   "cell_type": "markdown",
   "id": "106c4b5c-c0f0-446a-a870-48ccf1c74ed8",
   "metadata": {},
   "source": [
    "# 4. Data Visualization , storytelling and Experimenting with charts: Understand the relationship between variables."
   ]
  },
  {
   "cell_type": "markdown",
   "id": "9759fee6-a34e-4da7-8e09-57cba1027506",
   "metadata": {},
   "source": [
    "## Chart - 1 "
   ]
  },
  {
   "cell_type": "code",
   "execution_count": 15,
   "id": "f0765cd2-e6fc-461e-8838-879cb396137d",
   "metadata": {},
   "outputs": [
    {
     "data": {
      "image/png": "[encoded data removed]",
      "text/plain": [
       "<Figure size 1400x600 with 1 Axes>"
      ]
     },
     "metadata": {},
     "output_type": "display_data"
    }
   ],
   "source": [
    "# Chart - 1 visualization code\n",
    "# Bar plot for count of Movies vs TV Shows\n",
    "# Set figure size\n",
    "plt.figure(figsize=(14, 6))\n",
    "# Create countplot\n",
    "sns.countplot(data=df, x='type', palette='Set2')\n",
    "# Add labels and title\n",
    "plt.title(\"Count of Movies vs TV Shows on Netflix\", fontsize = 16, fontweight = 'bold')\n",
    "plt.xlabel(\"Type of Content\")\n",
    "plt.ylabel(\"Count\")\n",
    "# Add data labels\n",
    "for p in plt.gca().patches:\n",
    "    plt.text(p.get_x() + p.get_width() / 2, p.get_height(), int(p.get_height()),\n",
    "             ha='center', va='bottom', fontsize=10)\n",
    "# Show plot\n",
    "plt.show()"
   ]
  },
  {
   "cell_type": "markdown",
   "id": "4de2ee1a-42d2-424f-8071-5a56da17d2ca",
   "metadata": {},
   "source": [
    "## 1. Why did you pick the specific chart ?"
   ]
  },
  {
   "cell_type": "markdown",
   "id": "88c3c89a-9e8e-48d1-bddc-4e21a427ba69",
   "metadata": {},
   "source": [
    "This bar chart is ideal to show categorical comparison between the two types of content—Movies and TV Shows—available on Netflix. It helps us quickly gauge which format dominates the platform."
   ]
  },
  {
   "cell_type": "markdown",
   "id": "7ff2c388-2b00-4579-96a6-5457ab593efb",
   "metadata": {},
   "source": [
    "## 2. what is/are insight(s) found from the chart ?"
   ]
  },
  {
   "cell_type": "markdown",
   "id": "2877a428-350a-42ab-8e13-03cd6fd8ae7d",
   "metadata": {},
   "source": [
    "The chart shows that Movies significantly outnumber TV Shows on Netflix. This implies a heavier emphasis on film-based content compared to episodic series."
   ]
  },
  {
   "cell_type": "markdown",
   "id": "04b5f6a0-1339-4c65-b117-adaed86ed5e8",
   "metadata": {},
   "source": [
    "## 3. will the gained insights help creating a positive business impact ?"
   ]
  },
  {
   "cell_type": "markdown",
   "id": "4b28f68b-bab2-46bd-8554-e016ee66ac9f",
   "metadata": {},
   "source": [
    "## are there any insights that iead to negative growth ? justify with negative reason ."
   ]
  },
  {
   "cell_type": "markdown",
   "id": "8cdadff3-c545-44cc-ba5d-7771a002b0bf",
   "metadata": {},
   "source": [
    "**Positive Impact-**\n",
    "Understanding this content balance helps stakeholders determine whether to invest more in movies or diversify into TV shows. If TV shows lead to better retention (due to binge-watching), this insight could influence strategic content development."
   ]
  },
  {
   "cell_type": "markdown",
   "id": "205d1633-cc6e-4023-98f5-56aa704a401f",
   "metadata": {},
   "source": [
    "# chart - 2 -Top 10 Contries by content production"
   ]
  },
  {
   "cell_type": "code",
   "execution_count": 16,
   "id": "9a791812-f1fb-49cb-9623-7d2f308dab3a",
   "metadata": {},
   "outputs": [
    {
     "data": {
      "image/png": "[encoded data removed]",
      "text/plain": [
       "<Figure size 1600x600 with 1 Axes>"
      ]
     },
     "metadata": {},
     "output_type": "display_data"
    }
   ],
   "source": [
    "# Chart - 2 visualization code\n",
    "# Top 10 Countries by Content Production\n",
    "# Set figure size\n",
    "plt.figure(figsize=(16, 6))\n",
    "# Finding top countries\n",
    "top_countries = df['country'].value_counts().head(10)\n",
    "# Create bar plot\n",
    "sns.barplot(y=top_countries.index, x=top_countries.values, palette='viridis')\n",
    "# Add labels and title\n",
    "plt.title(\"Top 10 Countries by Content Count on Netflix\", fontsize = 16, fontweight = 'bold')\n",
    "plt.xlabel(\"Number of Titles\")\n",
    "plt.ylabel(\"Country\")\n",
    "# Add data labels\n",
    "for i, v in enumerate(top_countries.values):\n",
    "    plt.text(v + 5, i, str(v), va='center')\n",
    "# Show plot\n",
    "plt.show()"
   ]
  },
  {
   "cell_type": "markdown",
   "id": "d26a6a13-bd0e-45f7-b260-ed7769f2576a",
   "metadata": {},
   "source": [
    "## 1. Why did you pick the specific chart?"
   ]
  },
  {
   "cell_type": "markdown",
   "id": "61707093-9487-4f40-9477-9f9e3b3e4f20",
   "metadata": {},
   "source": [
    "A horizontal bar chart is best suited for displaying top contributors (countries in this case), especially when dealing with longer categorical names and counts."
   ]
  },
  {
   "cell_type": "markdown",
   "id": "e529efb9-df61-4866-86a1-1ff84a9b24f7",
   "metadata": {},
   "source": [
    "##  2. What is/are the insight(s) found from the chart? "
   ]
  },
  {
   "cell_type": "markdown",
   "id": "f489fdc9-08d1-4c6a-ad5f-2718474389b0",
   "metadata": {},
   "source": [
    "The United States is the largest contributor to Netflix’s content library, followed by India and the United Kingdom. This highlights regional focus and production partnerships."
   ]
  },
  {
   "cell_type": "markdown",
   "id": "39546252-571a-4c27-9519-37c9063024ff",
   "metadata": {},
   "source": [
    "## 3. Will the gained insights help creating a positive business impact?\n",
    "Are there any insights that lead to negative growth? Justify with specific reason."
   ]
  },
  {
   "cell_type": "markdown",
   "id": "8875b6e3-8845-4833-a7da-f625b80d24b8",
   "metadata": {},
   "source": [
    "This can guide localization strategies. For instance, if India ranks high in content, Netflix might consider enhancing its regional content offerings, marketing, or pricing strategies in that region."
   ]
  },
  {
   "cell_type": "markdown",
   "id": "70e70142-0014-42d0-a3d0-76574a66ff49",
   "metadata": {},
   "source": [
    "# chart - 3 - Top 10 Genres"
   ]
  },
  {
   "cell_type": "code",
   "execution_count": 17,
   "id": "00d60809-921e-4437-9f78-36878d76b057",
   "metadata": {},
   "outputs": [
    {
     "data": {
      "image/png": "[encoded data removed]",
      "text/plain": [
       "<Figure size 1400x600 with 1 Axes>"
      ]
     },
     "metadata": {},
     "output_type": "display_data"
    }
   ],
   "source": [
    "# Chart - 4 visualization code\n",
    "# Top 10 genres\n",
    "# Finding top 10 genres\n",
    "top_genres = df['genre_list'].explode().value_counts().head(10)\n",
    "# Set figure size\n",
    "plt.figure(figsize=(14,6))\n",
    "# Create bar plot\n",
    "sns.barplot(x=top_genres.values, y=top_genres.index, palette='viridis')\n",
    "# Add title and labels\n",
    "plt.title('Top 10 Genres on Netflix', fontsize = 16, fontweight = 'bold')\n",
    "plt.xlabel('Count')\n",
    "plt.ylabel('Genre')\n",
    "# Add data labels\n",
    "for index, value in enumerate(top_genres.values):\n",
    "    plt.text(value + 5, index, str(value), va='center')\n",
    "# Show plot\n",
    "plt.show()"
   ]
  },
  {
   "cell_type": "markdown",
   "id": "c752e95c-8717-4aae-862c-50b231d500bd",
   "metadata": {},
   "source": [
    "##  1. Why did you pick the specific chart?"
   ]
  },
  {
   "cell_type": "markdown",
   "id": "bc2a517c-6568-4356-aeb4-4c9b4d7676e3",
   "metadata": {},
   "source": [
    "Bar plots are ideal for comparing frequency across categories. Since genres are a key part of user content preferences, visualizing the most frequent genres can help identify what content dominates the platform."
   ]
  },
  {
   "cell_type": "markdown",
   "id": "5a5461e9-564a-47ab-b0cb-e68b41681c29",
   "metadata": {},
   "source": [
    "## 2. what is/are insight(s) found from chart ? "
   ]
  },
  {
   "cell_type": "markdown",
   "id": "828537c9-a406-45b3-919e-dc9d085f55ec",
   "metadata": {},
   "source": [
    "The most common genres include International Movies, Dramas, and Comedies. This suggests Netflix prioritizes diverse storytelling and emotional or humor-driven content that appeals to a wide audience."
   ]
  },
  {
   "cell_type": "markdown",
   "id": "956f75ee-95ae-493a-ae83-ca0b2d426d22",
   "metadata": {},
   "source": [
    "## 3. Will the gained insights help creating a positive business impact?\n",
    "Are there any insights that lead to negative growth? Justify with specific reason."
   ]
  },
  {
   "cell_type": "raw",
   "id": "e3516da8-e825-420d-8e65-a2a338fd81de",
   "metadata": {},
   "source": [
    "Positive Impact-\n",
    "Understanding which genres perform well can help Netflix acquire or produce similar content.\n",
    "\n",
    "Negative Impact-\n",
    "There's no negative growth insight here, but an over-reliance on a few genres might risk market saturation."
   ]
  },
  {
   "cell_type": "markdown",
   "id": "d763695e-a7ed-4b9f-9912-905faf0c85ba",
   "metadata": {},
   "source": [
    "# chart - 4 - Month-wise Count Plot"
   ]
  },
  {
   "cell_type": "code",
   "execution_count": 20,
   "id": "c74b0740-4e5f-47ed-a5ab-a3dae65ff978",
   "metadata": {},
   "outputs": [
    {
     "data": {
      "image/png": "[encoded data removed]",
      "text/plain": [
       "<Figure size 1600x600 with 1 Axes>"
      ]
     },
     "metadata": {},
     "output_type": "display_data"
    }
   ],
   "source": [
    "# Chart - 6 visualization code\n",
    "# Month-wise Count Plot\n",
    "# Set month order\n",
    "month_order = ['January', 'February', 'March', 'April', 'May', 'June',\n",
    "               'July', 'August', 'September', 'October', 'November', 'December']\n",
    "# Set figure size\n",
    "plt.figure(figsize=(16,6))\n",
    "# Create countplot\n",
    "ax = sns.countplot(data=df, x='month_added', order=month_order, palette='Set2')\n",
    "# Add data labels\n",
    "for p in ax.patches:\n",
    "    height = int(p.get_height())\n",
    "    ax.annotate(f'{height}',\n",
    "                (p.get_x() + p.get_width() / 2, height),\n",
    "                ha='center', va='bottom', fontsize=10)\n",
    "# Add title and labels\n",
    "plt.title('Content Addition by Month', fontsize = 16, fontweight = 'bold')\n",
    "plt.xlabel('Month')\n",
    "plt.ylabel('Number of Titles')\n",
    "# Set rotation for x-ticks\n",
    "plt.xticks(rotation=45)\n",
    "# Show plot\n",
    "plt.show()"
   ]
  },
  {
   "cell_type": "markdown",
   "id": "d678872c-6a36-48b5-a689-06fb35e931be",
   "metadata": {},
   "source": [
    "## 1. Why did you pick the specific chart?"
   ]
  },
  {
   "cell_type": "markdown",
   "id": "a3d8abee-1163-4408-8bcc-8e71a43450e2",
   "metadata": {},
   "source": [
    "It uncovers seasonal trends in content releases, which can influence marketing and engagement strategies."
   ]
  },
  {
   "cell_type": "markdown",
   "id": "7b16f324-b8cb-41e8-9860-b9e955b3cf09",
   "metadata": {},
   "source": [
    "## 2. What is/are the insight(s) found from the chart?"
   ]
  },
  {
   "cell_type": "markdown",
   "id": "784a5fd5-1b4a-410b-8222-f148f5e61b4d",
   "metadata": {},
   "source": [
    "December sees a significant rise, likely due to holiday season promotions. Lesser content is added mid-year."
   ]
  },
  {
   "cell_type": "markdown",
   "id": "3e2e0f76-93b2-419d-a344-fa7ba56abafd",
   "metadata": {},
   "source": [
    "##  3. Will the gained insights help creating a positive business impact?\n",
    "Are there any insights that lead to negative growth? Justify with specific reason."
   ]
  },
  {
   "cell_type": "markdown",
   "id": "50f2218b-1d27-4a36-b53d-152c689dcdf9",
   "metadata": {},
   "source": [
    "Positive Impact-\n",
    "Helps in aligning new launches with viewer activity patterns.\n",
    "\n",
    "Negative Impact-\n",
    "Not a negative sign, but off-season periods could be optimized with strategic releases."
   ]
  },
  {
   "cell_type": "markdown",
   "id": "f03b9408-041e-4ac3-a46f-70232c3b62ad",
   "metadata": {},
   "source": [
    "# chart - 5 - Content Type Over Year Added"
   ]
  },
  {
   "cell_type": "code",
   "execution_count": 23,
   "id": "0b5ff7a7-beca-47cd-b91b-d8635a7ad35c",
   "metadata": {},
   "outputs": [
    {
     "data": {
      "image/png": "[encoded data removed]",
      "text/plain": [
       "<Figure size 1400x600 with 1 Axes>"
      ]
     },
     "metadata": {},
     "output_type": "display_data"
    }
   ],
   "source": [
    "# Stacked Bar Plot of Content Type Over Year Added\n",
    "# Group and pivot data\n",
    "content_year = df.groupby(['year_added', 'type']).size().unstack(fill_value=0)\n",
    "# Create bar plot\n",
    "content_year.plot(kind='bar', stacked=True, figsize=(14, 6), colormap='tab20')\n",
    "# Add title and labels\n",
    "plt.title('Stacked Bar Plot of Content Type Over the Years', fontsize=16, fontweight = 'bold')\n",
    "plt.xlabel('Year Added')\n",
    "plt.ylabel('Number of Titles')\n",
    "# Set x-ticks rotation\n",
    "plt.xticks(rotation=45)\n",
    "# Add legend\n",
    "plt.legend(title='Content Type', bbox_to_anchor=(1.02, 1), loc='upper left')\n",
    "# Show plot\n",
    "plt.show()\n"
   ]
  },
  {
   "cell_type": "markdown",
   "id": "7b747f06-5617-439b-aef0-737922206cb0",
   "metadata": {},
   "source": [
    "## 1. Why did you pick the specific chart?"
   ]
  },
  {
   "cell_type": "raw",
   "id": "c2239fba-d440-4d0a-af56-6f99a77d8880",
   "metadata": {},
   "source": [
    "To understand how the distribution of Movies and TV Shows evolved over time on Netflix."
   ]
  },
  {
   "cell_type": "markdown",
   "id": "6eb50fcf-847a-421c-ba53-a50ac5e73e79",
   "metadata": {},
   "source": [
    "##  2. What is/are the insight(s) found from the chart?"
   ]
  },
  {
   "cell_type": "raw",
   "id": "80a74f1a-14b8-40b0-a307-9b0a1771a41d",
   "metadata": {},
   "source": [
    "Movies dominate, but TV shows steadily grew from 2016 onwards, indicating a strategic content expansion."
   ]
  },
  {
   "cell_type": "markdown",
   "id": "9bfab141-5a60-4e07-bbc8-329b9cbca7a8",
   "metadata": {},
   "source": [
    "##  3. Will the gained insights help creating a positive business impact?\n",
    "Are there any insights that lead to negative growth? Justify with specific reason."
   ]
  },
  {
   "cell_type": "markdown",
   "id": "0d8c7abb-60a3-477f-83b3-23f0d1b822d9",
   "metadata": {},
   "source": [
    "Positive Impact- Shows Netflix is diversifying its portfolio to cater to binge-watch culture.\n",
    "\n",
    "Negative Impact- If TV content surpasses demand, it could lead to oversaturation.\n"
   ]
  },
  {
   "cell_type": "markdown",
   "id": "6f02c766-b1ad-4b89-a472-ccf4193cf327",
   "metadata": {},
   "source": [
    "# 5. soultion to business objective "
   ]
  },
  {
   "cell_type": "markdown",
   "id": "ef549c79-1f6c-420e-ad72-24e82a59172a",
   "metadata": {},
   "source": [
    "## what do you suggest the client to achieve business objective ?"
   ]
  },
  {
   "cell_type": "markdown",
   "id": "52f33259-29e4-4140-bda4-45f028d4955e",
   "metadata": {},
   "source": [
    "To achieve the goal of growing viewership, improving content recommendations, and expanding audience reach, the following strategic actions are suggested based on insights from the data:\n",
    "\n",
    " 1. Invest in High-Performing Genres and Formats-\n",
    "\n",
    "  Dramas, Comedies, and Documentaries consistently dominate the platform across both movies and TV shows.\n",
    "\n",
    "  Focus on expanding these genres with diverse sub-genres and region-specific stories to retain and attract a wider audience.\n",
    "\n",
    " 2. Leverage Regional Content Preferences-\n",
    "\n",
    "  Countries like the United States, India, and United Kingdom are top contributors to the content library.\n",
    "\n",
    "  Produce and promote more localized content in these regions while also identifying underrepresented markets with growing potential.\n",
    "\n",
    " 3. Optimize Content Rating Mix-\n",
    "\n",
    "  A significant portion of content is rated TV-MA and R, which limits younger viewers.\n",
    "\n",
    "  Balance content ratings by producing more PG, TV-PG, and TV-14 shows and movies to attract family-friendly and teen segments."
   ]
  },
  {
   "cell_type": "markdown",
   "id": "4bc39973-c1c0-4e8c-8553-fa3753bdbf5a",
   "metadata": {},
   "source": [
    "# conclusion "
   ]
  },
  {
   "cell_type": "markdown",
   "id": "2e68bd48-fe5f-4052-bb96-4f29665ee314",
   "metadata": {},
   "source": [
    "From the analysis, we can conclude that netflix adopts a data-driven and audience-centric content strategy. Their dominance in Movies, rising interest in TV Shows, genre flexibility, and localization through country-specific content highlight their intent to capture a diverse and global market. These findings offer valuable guidance for content acquisition, original production, personalized recommendations, and marketing strategies. Clustering was applied using TF-IDF vectorization and KMeans on text-based features like title, genres, and description. This helped group similar types of content into meaningful clusters, such as documentaries, international dramas, and stand-up comedy."
   ]
  }
 ],
 "metadata": {
  "kernelspec": {
   "display_name": "Python 3 (ipykernel)",
   "language": "python",
   "name": "python3"
  },
  "language_info": {
   "codemirror_mode": {
    "name": "ipython",
    "version": 3
   },
   "file_extension": ".py",
   "mimetype": "text/x-python",
   "name": "python",
   "nbconvert_exporter": "python",
   "pygments_lexer": "ipython3",
   "version": "3.11.7"
  }
 },
 "nbformat": 4,
 "nbformat_minor": 5
}
